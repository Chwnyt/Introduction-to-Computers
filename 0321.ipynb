{
  "nbformat": 4,
  "nbformat_minor": 0,
  "metadata": {
    "colab": {
      "name": "0321.ipynb",
      "provenance": [],
      "authorship_tag": "ABX9TyOtqxLKAkJZqsKLvOGlL/ex",
      "include_colab_link": true
    },
    "kernelspec": {
      "name": "python3",
      "display_name": "Python 3"
    },
    "language_info": {
      "name": "python"
    }
  },
  "cells": [
    {
      "cell_type": "markdown",
      "metadata": {
        "id": "view-in-github",
        "colab_type": "text"
      },
      "source": [
        "<a href=\"https://colab.research.google.com/github/Chwnyt/Introduction-to-Computers/blob/main/0321.ipynb\" target=\"_parent\"><img src=\"https://colab.research.google.com/assets/colab-badge.svg\" alt=\"Open In Colab\"/></a>"
      ]
    },
    {
      "cell_type": "code",
      "execution_count": 1,
      "metadata": {
        "colab": {
          "base_uri": "https://localhost:8080/"
        },
        "id": "TzVDH5rAnJ4M",
        "outputId": "1147d6a9-a343-4c44-dfc8-96fb899ae3c3"
      },
      "outputs": [
        {
          "output_type": "stream",
          "name": "stdout",
          "text": [
            "hey hi hello\n",
            "hey_hi_hello\n",
            "hey\thi\thello\n",
            "hey\n",
            "hi\n",
            "hello\n"
          ]
        }
      ],
      "source": [
        "print('hey','hi','hello')\n",
        "print('hey','hi','hello',sep='_')\n",
        "print('hey','hi','hello',sep='\\t')\n",
        "print('hey','hi','hello',sep='\\n')"
      ]
    },
    {
      "cell_type": "code",
      "source": [
        "print('午安，')\n",
        "print('同學好！')\n",
        "print('打起精神來！！')\n",
        "\n",
        "print('午安，','同學好！','打起精神來！！',sep='\\n')"
      ],
      "metadata": {
        "colab": {
          "base_uri": "https://localhost:8080/"
        },
        "id": "fzi2uki6oxGD",
        "outputId": "922dff29-0b1a-4e47-de9a-03ed116c119b"
      },
      "execution_count": 2,
      "outputs": [
        {
          "output_type": "stream",
          "name": "stdout",
          "text": [
            "午安，\n",
            "同學好！\n",
            "打起精神來！！\n",
            "午安，\n",
            "同學好！\n",
            "打起精神來！！\n"
          ]
        }
      ]
    },
    {
      "cell_type": "code",
      "source": [
        ""
      ],
      "metadata": {
        "id": "Wh80PCK8psZQ"
      },
      "execution_count": null,
      "outputs": []
    },
    {
      "cell_type": "code",
      "source": [
        "print(123)\n",
        "print(456)"
      ],
      "metadata": {
        "colab": {
          "base_uri": "https://localhost:8080/"
        },
        "id": "SqXZOxudps0-",
        "outputId": "35a78752-eb1f-4693-e6a1-6839e8e1a502"
      },
      "execution_count": 3,
      "outputs": [
        {
          "output_type": "stream",
          "name": "stdout",
          "text": [
            "123\n",
            "456\n"
          ]
        }
      ]
    },
    {
      "cell_type": "code",
      "source": [
        "print(123,end=',')\n",
        "print(456)"
      ],
      "metadata": {
        "colab": {
          "base_uri": "https://localhost:8080/"
        },
        "id": "osr5VNTCp1Yj",
        "outputId": "979eb045-0b83-4a3f-98fb-c573c4c89983"
      },
      "execution_count": 5,
      "outputs": [
        {
          "output_type": "stream",
          "name": "stdout",
          "text": [
            "123,456\n"
          ]
        }
      ]
    },
    {
      "cell_type": "code",
      "source": [
        "print(123,end='')\n",
        "print(456)"
      ],
      "metadata": {
        "colab": {
          "base_uri": "https://localhost:8080/"
        },
        "id": "aG5PENXnqDLc",
        "outputId": "5d94eecb-4b63-4ade-e620-d8b89b9a1a32"
      },
      "execution_count": 6,
      "outputs": [
        {
          "output_type": "stream",
          "name": "stdout",
          "text": [
            "123456\n"
          ]
        }
      ]
    },
    {
      "cell_type": "code",
      "source": [
        "print('午安','同學好','打起精神來',sep='_',end='!!!')"
      ],
      "metadata": {
        "colab": {
          "base_uri": "https://localhost:8080/"
        },
        "id": "hGDhIiPzqZ1g",
        "outputId": "35d37b1a-f685-459e-efce-91774d27e4c1"
      },
      "execution_count": 14,
      "outputs": [
        {
          "output_type": "stream",
          "name": "stdout",
          "text": [
            "午安_同學好_打起精神來!!!"
          ]
        }
      ]
    },
    {
      "cell_type": "code",
      "source": [
        "print('下午好','平安順心','健康如意',sep=',',end='^^')"
      ],
      "metadata": {
        "colab": {
          "base_uri": "https://localhost:8080/"
        },
        "id": "44qjIA9hqnEf",
        "outputId": "939f9b5e-5a39-4b55-d55b-c92e158e3750"
      },
      "execution_count": 15,
      "outputs": [
        {
          "output_type": "stream",
          "name": "stdout",
          "text": [
            "下午好,平安順心,健康如意^^"
          ]
        }
      ]
    },
    {
      "cell_type": "code",
      "source": [
        "test1=input('輸入')"
      ],
      "metadata": {
        "colab": {
          "base_uri": "https://localhost:8080/"
        },
        "id": "hIUa4iQyvr9H",
        "outputId": "68440d34-5251-4c0e-cdd0-98ae576e4c32"
      },
      "execution_count": 16,
      "outputs": [
        {
          "name": "stdout",
          "output_type": "stream",
          "text": [
            "輸入123\n"
          ]
        }
      ]
    },
    {
      "cell_type": "code",
      "source": [
        "print(type(test1))"
      ],
      "metadata": {
        "colab": {
          "base_uri": "https://localhost:8080/"
        },
        "id": "how8_9DAwBg1",
        "outputId": "861e03c4-9600-443c-a2ef-8583e1540527"
      },
      "execution_count": 17,
      "outputs": [
        {
          "output_type": "stream",
          "name": "stdout",
          "text": [
            "<class 'str'>\n"
          ]
        }
      ]
    },
    {
      "cell_type": "code",
      "source": [
        "test2=int(input('輸入'))"
      ],
      "metadata": {
        "colab": {
          "base_uri": "https://localhost:8080/"
        },
        "id": "MU3eg8sMwI9j",
        "outputId": "3c1235da-0087-4fd7-d480-a4fc19c77c96"
      },
      "execution_count": 18,
      "outputs": [
        {
          "name": "stdout",
          "output_type": "stream",
          "text": [
            "輸入123\n"
          ]
        }
      ]
    },
    {
      "cell_type": "code",
      "source": [
        "test2"
      ],
      "metadata": {
        "colab": {
          "base_uri": "https://localhost:8080/"
        },
        "id": "hoMXTDn3wYQv",
        "outputId": "4cfeb7c2-c896-41d1-940f-33de167d1f15"
      },
      "execution_count": 19,
      "outputs": [
        {
          "output_type": "execute_result",
          "data": {
            "text/plain": [
              "123"
            ]
          },
          "metadata": {},
          "execution_count": 19
        }
      ]
    },
    {
      "cell_type": "code",
      "source": [
        "print(type(test2))"
      ],
      "metadata": {
        "colab": {
          "base_uri": "https://localhost:8080/"
        },
        "id": "bqQZNyZpwbG0",
        "outputId": "12fc8be0-a786-4717-d992-b59a2f0fdfbf"
      },
      "execution_count": 20,
      "outputs": [
        {
          "output_type": "stream",
          "name": "stdout",
          "text": [
            "<class 'int'>\n"
          ]
        }
      ]
    },
    {
      "cell_type": "code",
      "source": [
        "test2+1"
      ],
      "metadata": {
        "colab": {
          "base_uri": "https://localhost:8080/"
        },
        "id": "xP50iF71wmbB",
        "outputId": "ad34dbbc-8f94-43b7-cb3d-1cf8be57725e"
      },
      "execution_count": 21,
      "outputs": [
        {
          "output_type": "execute_result",
          "data": {
            "text/plain": [
              "124"
            ]
          },
          "metadata": {},
          "execution_count": 21
        }
      ]
    },
    {
      "cell_type": "code",
      "source": [
        "test3=int(input('請輸入月份'))\n",
        "test4=int(input('請輸入日期'))"
      ],
      "metadata": {
        "colab": {
          "base_uri": "https://localhost:8080/"
        },
        "id": "lhZ7-MXWxF82",
        "outputId": "2b9a6bf8-56d3-4d17-a70d-42c37092c3b9"
      },
      "execution_count": 22,
      "outputs": [
        {
          "name": "stdout",
          "output_type": "stream",
          "text": [
            "請輸入月份3\n",
            "請輸入日期21\n"
          ]
        }
      ]
    },
    {
      "cell_type": "code",
      "source": [
        "test3"
      ],
      "metadata": {
        "colab": {
          "base_uri": "https://localhost:8080/"
        },
        "id": "V9Q_p2uMxfHw",
        "outputId": "db379f8f-eaa0-445a-8f80-b2b7a286f74a"
      },
      "execution_count": 23,
      "outputs": [
        {
          "output_type": "execute_result",
          "data": {
            "text/plain": [
              "3"
            ]
          },
          "metadata": {},
          "execution_count": 23
        }
      ]
    },
    {
      "cell_type": "code",
      "source": [
        "test4"
      ],
      "metadata": {
        "colab": {
          "base_uri": "https://localhost:8080/"
        },
        "id": "GcvMSD9fxhz8",
        "outputId": "b9d90037-b87b-4777-dd7c-b14306ae4a5b"
      },
      "execution_count": 24,
      "outputs": [
        {
          "output_type": "execute_result",
          "data": {
            "text/plain": [
              "21"
            ]
          },
          "metadata": {},
          "execution_count": 24
        }
      ]
    },
    {
      "cell_type": "code",
      "source": [
        "print('今天是',test3,'月',test4,'號',sep='')"
      ],
      "metadata": {
        "colab": {
          "base_uri": "https://localhost:8080/"
        },
        "id": "h6GcchkxxjNk",
        "outputId": "e5bbdd94-c0af-40e7-c6f3-dbd2b8223662"
      },
      "execution_count": 26,
      "outputs": [
        {
          "output_type": "stream",
          "name": "stdout",
          "text": [
            "今天是3月21號\n"
          ]
        }
      ]
    },
    {
      "cell_type": "code",
      "source": [
        "print('今天是',end='')\n",
        "print(test3,end='')\n",
        "print('月',end='')\n",
        "print(test4,end='')\n",
        "print('號')"
      ],
      "metadata": {
        "colab": {
          "base_uri": "https://localhost:8080/"
        },
        "id": "YfTB9gwkzEMw",
        "outputId": "667c7cb3-c425-406e-b24b-7d2d72440444"
      },
      "execution_count": 37,
      "outputs": [
        {
          "output_type": "stream",
          "name": "stdout",
          "text": [
            "今天是3月21號\n"
          ]
        }
      ]
    },
    {
      "cell_type": "code",
      "source": [
        "test5=int(input('請輸入國文成績'))\n",
        "test6=int(input('請輸入英文成績'))\n",
        "test7=int(input('請輸入數學成績'))\n",
        "print('你的成績總分為：',test5+test6+test7,sep='\\n')"
      ],
      "metadata": {
        "colab": {
          "base_uri": "https://localhost:8080/"
        },
        "id": "MQSv7biE0FSu",
        "outputId": "bbcadcc3-c94e-47ea-979a-dba031686927"
      },
      "execution_count": 34,
      "outputs": [
        {
          "output_type": "stream",
          "name": "stdout",
          "text": [
            "請輸入國文成績50\n",
            "請輸入英文成績60\n",
            "請輸入數學成績70\n",
            "你的成績總分為：\n",
            "180\n"
          ]
        }
      ]
    },
    {
      "cell_type": "code",
      "source": [
        ""
      ],
      "metadata": {
        "id": "Vo_fxd9p1Xso"
      },
      "execution_count": null,
      "outputs": []
    }
  ]
}