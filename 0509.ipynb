{
  "nbformat": 4,
  "nbformat_minor": 0,
  "metadata": {
    "colab": {
      "name": "0509.ipynb",
      "provenance": [],
      "authorship_tag": "ABX9TyMHZiGTruyW1K6NEYpd7jS2",
      "include_colab_link": true
    },
    "kernelspec": {
      "name": "python3",
      "display_name": "Python 3"
    },
    "language_info": {
      "name": "python"
    }
  },
  "cells": [
    {
      "cell_type": "markdown",
      "metadata": {
        "id": "view-in-github",
        "colab_type": "text"
      },
      "source": [
        "<a href=\"https://colab.research.google.com/github/Chwnyt/Introduction-to-Computers/blob/main/0509.ipynb\" target=\"_parent\"><img src=\"https://colab.research.google.com/assets/colab-badge.svg\" alt=\"Open In Colab\"/></a>"
      ]
    },
    {
      "cell_type": "code",
      "execution_count": 3,
      "metadata": {
        "colab": {
          "base_uri": "https://localhost:8080/"
        },
        "id": "M3EytGkl9UIe",
        "outputId": "112c0eea-6db6-4e35-a7a4-1e421efcdd86"
      },
      "outputs": [
        {
          "output_type": "stream",
          "name": "stdout",
          "text": [
            "請輸入你的體溫35\n",
            "體溫正常!\n"
          ]
        }
      ],
      "source": [
        "temp= float(input(\"請輸入你的體溫\"))\n",
        "if temp >= 37.5:\n",
        "   print(\"體溫過高!\")\n",
        "elif temp >= 37 and temp < 37.4:\n",
        "   print(\"體溫略高!\")\n",
        "elif temp >= 34 and temp <= 36.9:\n",
        "   print(\"體溫正常!\")\n",
        "else:\n",
        "   print(\"體溫異常，請重新測量!\")"
      ]
    },
    {
      "cell_type": "code",
      "source": [
        "score = input (\"請輸入成績\")\n",
        "if (int(score) >= 90):\n",
        "  print(\"A\")\n",
        "elif (int(score) >= 80):\n",
        "  print(\"B\")\n",
        "elif (int(score) >= 70):\n",
        "  print(\"C\")\n",
        "elif (int(score) >= 60):\n",
        "  print(\"D\")\n",
        "else:\n",
        "  print(\"E\")\n",
        "\n",
        "\n"
      ],
      "metadata": {
        "colab": {
          "base_uri": "https://localhost:8080/"
        },
        "id": "_YUcoremBtal",
        "outputId": "caec9f9c-c440-4863-f015-e72ac2ee4b69"
      },
      "execution_count": 6,
      "outputs": [
        {
          "output_type": "stream",
          "name": "stdout",
          "text": [
            "請輸入成績90\n",
            "A\n"
          ]
        }
      ]
    },
    {
      "cell_type": "code",
      "source": [
        "money = int(input(\"請輸入購物金額:\"))\n",
        "if (money >= 10000):\n",
        "  if(money >= 10000):\n",
        "    print(\"八折\",money *0.8, end = \"元\\n\")\n",
        "  elif(money >= 50000):\n",
        "    print(\"八五折\",money *0.85, end = \"元\\n\")\n",
        "  elif(money >= 30000):\n",
        "    print(\"九折\",money *0.9, end = \"元\\n\")\n",
        "  else:\n",
        "    print(\"九五折\",money *0.95, end = \"元\\n\")\n",
        "else:\n",
        "  print(\"沒打折\",money, end= \"元\\n元\\n\")"
      ],
      "metadata": {
        "colab": {
          "base_uri": "https://localhost:8080/"
        },
        "id": "mXPuFyzWFaKt",
        "outputId": "7bad9dbd-28fd-4bc4-f28e-5fab791d13a5"
      },
      "execution_count": 7,
      "outputs": [
        {
          "output_type": "stream",
          "name": "stdout",
          "text": [
            "請輸入購物金額:30000\n",
            "八折 24000.0元\n"
          ]
        }
      ]
    },
    {
      "cell_type": "code",
      "source": [
        "season = float(input(\"請輸入月份\"))\n",
        "if season >= 3:\n",
        "  print(season,\"月是春天!\")\n",
        "elif season >= 6:\n",
        "   print(season,\"月是夏天!\")\n",
        "elif season >= 9:\n",
        "   print(season,\"月是秋天!\")\n",
        "elif season >= 12 and season <= 2:\n",
        "   print(season,\"月是冬天!\")\n",
        "else:\n",
        "  print(\"月份不在範圍內!\")"
      ],
      "metadata": {
        "colab": {
          "base_uri": "https://localhost:8080/"
        },
        "id": "F8q4PI7mJQfW",
        "outputId": "0d66db02-e359-472f-e3d7-8307a4e617c9"
      },
      "execution_count": 21,
      "outputs": [
        {
          "output_type": "stream",
          "name": "stdout",
          "text": [
            "請輸入月份5\n",
            "5.0 月是春天!\n"
          ]
        }
      ]
    },
    {
      "cell_type": "code",
      "source": [
        "money = int(input(\"請輸入今年收入淨額:\"))\n",
        "if (money >= 2000000):\n",
        "   print(\"付稅金額:\",money *0.3, end = \"元\\n\")\n",
        "elif (money >= 1000000):\n",
        "   print(\"付稅金額:\",money *0.21, end = \"元\\n\")\n",
        "elif (money >= 600000):\n",
        "   print(\"付稅金額:\",money *0.13, end = \"元\\n\")\n",
        "elif (money >= 300000):\n",
        "   print(\"付稅金額:\",money *0.06, end = \"元\\n\")"
      ],
      "metadata": {
        "colab": {
          "base_uri": "https://localhost:8080/"
        },
        "id": "8D5FQmgyNTe9",
        "outputId": "d3417e29-cda5-456e-d5aa-989602f4bf6e"
      },
      "execution_count": 22,
      "outputs": [
        {
          "output_type": "stream",
          "name": "stdout",
          "text": [
            "請輸入今年收入淨額:5000000\n",
            "付稅金額: 1500000.0元\n"
          ]
        }
      ]
    },
    {
      "cell_type": "code",
      "source": [
        "money = int(input(\"請輸入購物金額:\"))\n",
        "if(money >= 10000):\n",
        "  if (money >= 100000):\n",
        "     print(\"八折\",money *0.8, end = \"元\\n\")\n",
        "  elif (money >= 50000):\n",
        "     print(\"八五折\",money *0.85, end = \"元\\n\")\n",
        "  elif (money >= 30000):\n",
        "     print(\"九折\",money *0.9, end = \"元\\n\")\n",
        "  else:\n",
        "    print(\"九五折\",money * 0.95, end = \"元\\n\")\n",
        "else:\n",
        "  print(\"沒打折\",money, end=\"元\\n\")"
      ],
      "metadata": {
        "colab": {
          "base_uri": "https://localhost:8080/"
        },
        "id": "4U7idGFxXnbQ",
        "outputId": "2af40cf7-f8cd-434b-8156-6b62dbc2877c"
      },
      "execution_count": 24,
      "outputs": [
        {
          "output_type": "stream",
          "name": "stdout",
          "text": [
            "請輸入購物金額:1000000\n",
            "八折 800000.0元\n"
          ]
        }
      ]
    }
  ]
}