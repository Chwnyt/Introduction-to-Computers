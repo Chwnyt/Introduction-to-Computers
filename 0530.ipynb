{
  "nbformat": 4,
  "nbformat_minor": 0,
  "metadata": {
    "colab": {
      "name": "0530.ipynb",
      "provenance": [],
      "authorship_tag": "ABX9TyOvjL+YAyCRRRnkVjkKz+kx",
      "include_colab_link": true
    },
    "kernelspec": {
      "name": "python3",
      "display_name": "Python 3"
    },
    "language_info": {
      "name": "python"
    }
  },
  "cells": [
    {
      "cell_type": "markdown",
      "metadata": {
        "id": "view-in-github",
        "colab_type": "text"
      },
      "source": [
        "<a href=\"https://colab.research.google.com/github/Chwnyt/Introduction-to-Computers/blob/main/0530.ipynb\" target=\"_parent\"><img src=\"https://colab.research.google.com/assets/colab-badge.svg\" alt=\"Open In Colab\"/></a>"
      ]
    },
    {
      "cell_type": "code",
      "execution_count": null,
      "metadata": {
        "colab": {
          "base_uri": "https://localhost:8080/"
        },
        "id": "s3DmY2mTBmHw",
        "outputId": "8b3f7f69-75f5-4c1c-a2cd-e55d27983d7d"
      },
      "outputs": [
        {
          "output_type": "stream",
          "name": "stdout",
          "text": [
            "2*1= 2   \n",
            "2*2= 4   \n",
            "2*3= 6   \n",
            "2*4= 8   \n",
            "2*5=10   \n",
            "2*6=12   \n",
            "2*7=14   \n",
            "2*8=16   \n",
            "2*9=18   \n",
            "3*1= 3   \n",
            "3*2= 6   \n",
            "3*3= 9   \n",
            "3*4=12   \n",
            "3*5=15   \n",
            "3*6=18   \n",
            "3*7=21   \n",
            "3*8=24   \n",
            "3*9=27   \n",
            "4*1= 4   \n",
            "4*2= 8   \n",
            "4*3=12   \n",
            "4*4=16   \n",
            "4*5=20   \n",
            "4*6=24   \n",
            "4*7=28   \n",
            "4*8=32   \n",
            "4*9=36   \n",
            "5*1= 5   \n",
            "5*2=10   \n",
            "5*3=15   \n",
            "5*4=20   \n",
            "5*5=25   \n",
            "5*6=30   \n",
            "5*7=35   \n",
            "5*8=40   \n",
            "5*9=45   \n",
            "6*1= 6   \n",
            "6*2=12   \n",
            "6*3=18   \n",
            "6*4=24   \n",
            "6*5=30   \n",
            "6*6=36   \n",
            "6*7=42   \n",
            "6*8=48   \n",
            "6*9=54   \n",
            "7*1= 7   \n",
            "7*2=14   \n",
            "7*3=21   \n",
            "7*4=28   \n",
            "7*5=35   \n",
            "7*6=42   \n",
            "7*7=49   \n",
            "7*8=56   \n",
            "7*9=63   \n",
            "8*1= 8   \n",
            "8*2=16   \n",
            "8*3=24   \n",
            "8*4=32   \n",
            "8*5=40   \n",
            "8*6=48   \n",
            "8*7=56   \n",
            "8*8=64   \n",
            "8*9=72   \n",
            "9*1= 9   \n",
            "9*2=18   \n",
            "9*3=27   \n",
            "9*4=36   \n",
            "9*5=45   \n",
            "9*6=54   \n",
            "9*7=63   \n",
            "9*8=72   \n",
            "9*9=81   \n"
          ]
        }
      ],
      "source": [
        "for i in range(2,10):\n",
        "  for j in range(1,10):\n",
        "    product = i*j\n",
        "    print(\"%d*%d=%2d   \" % (i, j, product), end=\"\") \n",
        "    print()"
      ]
    },
    {
      "cell_type": "code",
      "source": [
        "a = int(input(\"請輸入a得值\"))\n",
        "b = int(input(\"請輸入b得值\"))\n",
        "\n",
        "maxno = a * b\n",
        "for i in range(1,maxno+1):\n",
        "  if(i % a == 0 and i % b == 0):\n",
        "    break\n",
        "print(\"%d和%d的最小公倍數 = %d\" %(a,b,i))"
      ],
      "metadata": {
        "colab": {
          "base_uri": "https://localhost:8080/"
        },
        "id": "6MoNzqeqDbKt",
        "outputId": "fb170572-0f9d-42d0-e019-d778807c6fe5"
      },
      "execution_count": null,
      "outputs": [
        {
          "output_type": "stream",
          "name": "stdout",
          "text": [
            "請輸入a得值10\n",
            "請輸入b得值8\n",
            "10和8的最小公倍數 = 40\n"
          ]
        }
      ]
    },
    {
      "cell_type": "code",
      "source": [
        "n = int(input(\"請輸入正整數: \"))\n",
        "for i in range(1,n+1):\n",
        "  if i % 5 == 0:\n",
        "    continue\n",
        "  print(i, end=\" \")"
      ],
      "metadata": {
        "colab": {
          "base_uri": "https://localhost:8080/"
        },
        "id": "HHctwwSuHXIH",
        "outputId": "2aecbc8d-f535-4d44-b6a7-f2bfb48ee7e2"
      },
      "execution_count": null,
      "outputs": [
        {
          "output_type": "stream",
          "name": "stdout",
          "text": [
            "請輸入正整數: 21\n",
            "1 2 3 4 6 7 8 9 11 12 13 14 16 17 18 19 21 "
          ]
        }
      ]
    },
    {
      "cell_type": "code",
      "source": [
        "total = n = 0\n",
        "while(n<= 10):\n",
        "  total += n\n",
        "  n += 1\n",
        "  print(total)"
      ],
      "metadata": {
        "colab": {
          "base_uri": "https://localhost:8080/"
        },
        "id": "fMRbnRLnKOSn",
        "outputId": "37064241-ee8c-4fdc-8462-ce9ad589529b"
      },
      "execution_count": null,
      "outputs": [
        {
          "output_type": "stream",
          "name": "stdout",
          "text": [
            "0\n",
            "1\n",
            "3\n",
            "6\n",
            "10\n",
            "15\n",
            "21\n",
            "28\n",
            "36\n",
            "45\n",
            "55\n"
          ]
        }
      ]
    },
    {
      "cell_type": "code",
      "source": [
        "total = i = 1\n",
        "n = int(input(\"請輸入正整數n的值: \"))\n",
        "while i<=n:\n",
        "  total *= i\n",
        "  i+=1\n",
        "print(\"%d!=%d\" % (n, total))"
      ],
      "metadata": {
        "colab": {
          "base_uri": "https://localhost:8080/"
        },
        "id": "B9loMlhUL-zP",
        "outputId": "0e2b7040-754f-48b0-a719-b30bb73c0800"
      },
      "execution_count": null,
      "outputs": [
        {
          "output_type": "stream",
          "name": "stdout",
          "text": [
            "請輸入正整數n的值: 100\n",
            "100!=93326215443944152681699238856266700490715968264381621468592963895217599993229915608941463976156518286253697920827223758251185210916864000000000000000000000000\n"
          ]
        }
      ]
    },
    {
      "cell_type": "code",
      "source": [
        "n = int(input(\"請輸入正整數: \"))\n",
        "for i in range(1,n+1):\n",
        "  if i % 5 == 0:\n",
        "    continue\n",
        "  print(i, end=\" \")"
      ],
      "metadata": {
        "colab": {
          "base_uri": "https://localhost:8080/"
        },
        "id": "tTvorYogH8HW",
        "outputId": "0f34995c-59aa-4f42-e9d6-be78ae3cfea5"
      },
      "execution_count": 1,
      "outputs": [
        {
          "output_type": "stream",
          "name": "stdout",
          "text": [
            "請輸入正整數: 12\n",
            "1 2 3 4 6 7 8 9 11 12 "
          ]
        }
      ]
    },
    {
      "cell_type": "code",
      "source": [
        "sum = 0\n",
        "for i in range(1,101):\n",
        "  if i % 3 == 0 or i % 7 == 0:\n",
        "    sum += i\n",
        "print(\"1到100中，3或7的倍數總和= \"+str(sum))"
      ],
      "metadata": {
        "colab": {
          "base_uri": "https://localhost:8080/"
        },
        "id": "h-SBs76gKaEA",
        "outputId": "6a96ff88-e6da-49c4-d3af-53552c7a0bcb"
      },
      "execution_count": 5,
      "outputs": [
        {
          "output_type": "stream",
          "name": "stdout",
          "text": [
            "1到100中，3或7的倍數總和= 2208\n"
          ]
        }
      ]
    }
  ]
}